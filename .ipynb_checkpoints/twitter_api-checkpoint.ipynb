{
 "cells": [
  {
   "cell_type": "code",
   "execution_count": 22,
   "metadata": {},
   "outputs": [],
   "source": [
    "# 完成\n",
    "\n",
    "import tweepy\n",
    "import time\n",
    "\n",
    "# 各種キーをセット\n",
    "CONSUMER_KEY = 'IZZ7pv6HY9cMDTlZRzdvLJKtA'\n",
    "CONSUMER_SECRET = '0IT3pH1vMFGs6TRBb6oxZvp1HHclMFbDnrlO6xAc1hLudmuwsR'\n",
    "ACCESS_TOKEN = '1099155629124407303-Wkx202NxDAdkyKjBdZwi01bP7uQmef'\n",
    "ACCESS_SECRET = 'OKdca2YR3li5dOOit6wEWQyTCISzDttk44e7KHanb8BJR'\n",
    "\n",
    "#APIインスタンスを作成\n",
    "auth = tweepy.OAuthHandler(CONSUMER_KEY, CONSUMER_SECRET)\n",
    "auth.set_access_token(ACCESS_TOKEN, ACCESS_SECRET)\n",
    "api = tweepy.API(auth)\n",
    "\n",
    "#検索キーワード\n",
    "q = \"副業\"\n",
    "count = 5\n",
    "\n",
    "# DMメッセージ\n",
    "dm_message = 'こんにちは'\n",
    "search_results = api.search(q=q, count=count)\n",
    "\n",
    "for result in search_results:\n",
    "    userid = result.user._json['id']\n",
    "    event = {\n",
    "  \"event\": {\n",
    "    \"type\": \"message_create\",\n",
    "    \"message_create\": {\n",
    "      \"target\": {\n",
    "        \"recipient_id\": userid\n",
    "      },\n",
    "      \"message_data\": {\n",
    "        \"text\": dm_message\n",
    "      }\n",
    "    }\n",
    "  }\n",
    "}\n",
    "    # フォローする\n",
    "    api.create_friendship(userid)\n",
    "    # DMを送る\n",
    "    api.send_direct_message_new(event)\n",
    "    time.sleep(10)"
   ]
  },
  {
   "cell_type": "markdown",
   "metadata": {},
   "source": [
    "***"
   ]
  }
 ],
 "metadata": {
  "kernelspec": {
   "display_name": "Python 3",
   "language": "python",
   "name": "python3"
  },
  "language_info": {
   "codemirror_mode": {
    "name": "ipython",
    "version": 3
   },
   "file_extension": ".py",
   "mimetype": "text/x-python",
   "name": "python",
   "nbconvert_exporter": "python",
   "pygments_lexer": "ipython3",
   "version": "3.6.4"
  },
  "toc": {
   "base_numbering": 1,
   "nav_menu": {},
   "number_sections": true,
   "sideBar": true,
   "skip_h1_title": false,
   "title_cell": "Table of Contents",
   "title_sidebar": "Contents",
   "toc_cell": false,
   "toc_position": {},
   "toc_section_display": true,
   "toc_window_display": false
  }
 },
 "nbformat": 4,
 "nbformat_minor": 2
}
