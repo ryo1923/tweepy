{
 "cells": [
  {
   "cell_type": "code",
   "execution_count": null,
   "metadata": {
    "scrolled": true
   },
   "outputs": [],
   "source": [
    "# 完成(DM)\n",
    "\n",
    "import tweepy\n",
    "import time\n",
    "\n",
    "# 各種キーをセット\n",
    "CONSUMER_KEY = '****'\n",
    "CONSUMER_SECRET = '****'\n",
    "ACCESS_TOKEN = '****'\n",
    "ACCESS_SECRET = '****'\n",
    "\n",
    "# APIインスタンスを作成\n",
    "auth = tweepy.OAuthHandler(CONSUMER_KEY, CONSUMER_SECRET)\n",
    "auth.set_access_token(ACCESS_TOKEN, ACCESS_SECRET)\n",
    "api = tweepy.API(auth)\n",
    "\n",
    "# 検索キーワード\n",
    "q = \"****\"\n",
    "# 検索人数\n",
    "count = 40\n",
    "\n",
    "# DMメッセージ\n",
    "dm_message = \"DMで送りたいメッセージ\"\n",
    "\n",
    "# 検索キーワードと検索人数を元に検索\n",
    "search_results = api.search(q=q, count=count)\n",
    "\n",
    "# DMを送る\n",
    "for result in search_results:\n",
    "    userid = result.user._json['id']\n",
    "    event = {\n",
    "  \"event\": {\n",
    "    \"type\": \"message_create\",\n",
    "    \"message_create\": {\n",
    "      \"target\": {\n",
    "        \"recipient_id\": userid\n",
    "      },\n",
    "      \"message_data\": {\n",
    "        \"text\": dm_message\n",
    "      }\n",
    "    }\n",
    "  }\n",
    "}\n",
    "    # DMを送る\n",
    "    try:\n",
    "        api.send_direct_message_new(event)\n",
    "    except:\n",
    "        pass\n",
    "    \n",
    "    # 5秒待つ\n",
    "    time.sleep(5)"
   ]
  },
  {
   "cell_type": "markdown",
   "metadata": {},
   "source": [
    "***"
   ]
  },
  {
   "cell_type": "code",
   "execution_count": null,
   "metadata": {},
   "outputs": [],
   "source": [
    "# 完成(フォローのみ)\n",
    "\n",
    "import tweepy\n",
    "import time\n",
    "\n",
    "# 各種キーをセット\n",
    "CONSUMER_KEY = '****'\n",
    "CONSUMER_SECRET = '****'\n",
    "ACCESS_TOKEN = '****'\n",
    "ACCESS_SECRET = '****'\n",
    "\n",
    "# APIインスタンスを作成\n",
    "auth = tweepy.OAuthHandler(CONSUMER_KEY, CONSUMER_SECRET)\n",
    "auth.set_access_token(ACCESS_TOKEN, ACCESS_SECRET)\n",
    "api = tweepy.API(auth)\n",
    "\n",
    "# 検索キーワード\n",
    "q = \"****\"\n",
    "# 検索人数\n",
    "count = 25\n",
    "\n",
    "# キーワードでフォローする\n",
    "search_results = api.search(q=q, count=count)\n",
    "for result in search_results:\n",
    "    userid = result.user._json['id']\n",
    "    # フォローする\n",
    "    api.create_friendship(userid)"
   ]
  },
  {
   "cell_type": "markdown",
   "metadata": {},
   "source": [
    "***"
   ]
  },
  {
   "cell_type": "code",
   "execution_count": null,
   "metadata": {},
   "outputs": [],
   "source": [
    "# 完成(ツイート)\n",
    "\n",
    "import tweepy\n",
    "\n",
    "# 各種キーをセット\n",
    "CONSUMER_KEY = '****'\n",
    "CONSUMER_SECRET = '****'\n",
    "ACCESS_TOKEN = '****'\n",
    "ACCESS_SECRET = '****'\n",
    "\n",
    "#　APIインスタンスを作成\n",
    "auth = tweepy.OAuthHandler(CONSUMER_KEY, CONSUMER_SECRET)\n",
    "auth.set_access_token(ACCESS_TOKEN, ACCESS_SECRET)\n",
    "api = tweepy.API(auth)\n",
    "\n",
    "# ツイート内容\n",
    "api.update_status(\"働きたい人を紹介する副業やりませんか？\\n\\\n",
    "やってみたいと思う方、少しでも興味がある方は、DMしてください！！\")"
   ]
  },
  {
   "cell_type": "markdown",
   "metadata": {},
   "source": [
    "***"
   ]
  }
 ],
 "metadata": {
  "kernelspec": {
   "display_name": "Python 3",
   "language": "python",
   "name": "python3"
  },
  "language_info": {
   "codemirror_mode": {
    "name": "ipython",
    "version": 3
   },
   "file_extension": ".py",
   "mimetype": "text/x-python",
   "name": "python",
   "nbconvert_exporter": "python",
   "pygments_lexer": "ipython3",
   "version": "3.6.4"
  },
  "toc": {
   "base_numbering": 1,
   "nav_menu": {},
   "number_sections": true,
   "sideBar": true,
   "skip_h1_title": false,
   "title_cell": "Table of Contents",
   "title_sidebar": "Contents",
   "toc_cell": false,
   "toc_position": {},
   "toc_section_display": true,
   "toc_window_display": false
  }
 },
 "nbformat": 4,
 "nbformat_minor": 2
}
